{
 "cells": [
  {
   "cell_type": "code",
   "execution_count": 1,
   "metadata": {},
   "outputs": [
    {
     "name": "stdout",
     "output_type": "stream",
     "text": [
      "Please choose from the below options\n",
      "1. Addition\n",
      "2. Subtraction\n",
      "3. Multiplication\n",
      "4. Divison\n",
      "4\n",
      "Enter two numbers(first/second)\n",
      "8\n",
      "2\n",
      "Your answer after dividing given numbers is  4.0\n"
     ]
    }
   ],
   "source": [
    "print(\"Please choose from the below options\\n1. Addition\\n2. Subtraction\\n3. Multiplication\\n4. Divison\")\n",
    "a = int(input())\n",
    "if a == 1:\n",
    "    print(\"Enter two numbers\")\n",
    "    num1 = float(input())\n",
    "    num2 = float(input())\n",
    "    print(\"Your answer after adding given numbers is \", num1 + num2)\n",
    "\n",
    "elif a == 2:\n",
    "    print(\"Enter two numbers(first - second\")\n",
    "\n",
    "    num1 = float(input()) \n",
    "    num2 = float(input())\n",
    "    print(\"Your answer after subtraction is \", num1-num2)\n",
    "\n",
    "elif a == 3:\n",
    "    print(\"Enter two numbers\")\n",
    "    num1 = float(input())\n",
    "    num2 = float(input())\n",
    "    print(\"Your answer after multiplying given numbers is \", num1 * num2)\n",
    "\n",
    "elif a == 4:\n",
    "    print(\"Enter two numbers(first/second)\")\n",
    "    num1 = float(input())\n",
    "    num2 = float(input())\n",
    "    print(\"Your answer after dividing given numbers is \", num1 / num2)\n",
    "\n",
    "else:\n",
    "    print(\"You had entered invalid option\")\n"
   ]
  },
  {
   "cell_type": "code",
   "execution_count": null,
   "metadata": {},
   "outputs": [],
   "source": [
    "# Readme file:\n",
    "\n",
    "# 1. There are four options that user had to choose. If users choose any integer not between 1 to 4. It will give error message.\n",
    "\n",
    "# 2. If user choose addition, it will take two input numbers from user and add it and give output.\n",
    "\n",
    "# 3. If user choose subtraction, it will take two input from user and subtract it by First number - Second number and give the output.\n",
    "\n",
    "# 4. If user choose Multiplication, it will take two input numbers from user and multiply it and give output.\n",
    "\n",
    "# 5. If user choose division, it will take two input numbers from user and divide it as first number/ second number and give output.\n",
    "\n",
    "# 6. Incase any non number is given as input, it will throw error."
   ]
  },
  {
   "cell_type": "code",
   "execution_count": null,
   "metadata": {},
   "outputs": [],
   "source": []
  }
 ],
 "metadata": {
  "kernelspec": {
   "display_name": "Python 3",
   "language": "python",
   "name": "python3"
  },
  "language_info": {
   "codemirror_mode": {
    "name": "ipython",
    "version": 3
   },
   "file_extension": ".py",
   "mimetype": "text/x-python",
   "name": "python",
   "nbconvert_exporter": "python",
   "pygments_lexer": "ipython3",
   "version": "3.8.5"
  }
 },
 "nbformat": 4,
 "nbformat_minor": 4
}
